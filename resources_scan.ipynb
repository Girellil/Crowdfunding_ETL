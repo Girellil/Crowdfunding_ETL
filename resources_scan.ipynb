{
 "cells": [
  {
   "cell_type": "markdown",
   "id": "db16703a",
   "metadata": {},
   "source": [
    "### Inspection of Source tables"
   ]
  },
  {
   "cell_type": "code",
   "execution_count": 3,
   "id": "3f508685",
   "metadata": {},
   "outputs": [
    {
     "name": "stdout",
     "output_type": "stream",
     "text": [
      "C:\\Users\\lukas\\Documents\\GitHub\\Crowdfunding_ETL\\Resources\n"
     ]
    }
   ],
   "source": [
    "cd Resources"
   ]
  },
  {
   "cell_type": "code",
   "execution_count": 4,
   "id": "af561a4c",
   "metadata": {},
   "outputs": [
    {
     "name": "stdout",
     "output_type": "stream",
     "text": [
      " Volume in drive C has no label.\n",
      " Volume Serial Number is 7E71-159D\n",
      "\n",
      " Directory of C:\\Users\\lukas\\Documents\\GitHub\\Crowdfunding_ETL\\Resources\n",
      "\n",
      "2024-02-03  03:36 PM    <DIR>          .\n",
      "2024-02-03  03:36 PM    <DIR>          ..\n",
      "2024-02-03  03:10 PM           133,627 campaign.csv\n",
      "2024-02-03  03:10 PM               159 category.csv\n",
      "2024-02-03  03:36 PM            47,792 contacts.csv\n",
      "2024-02-01  08:30 PM            44,299 contacts.xlsx\n",
      "2024-02-01  08:30 PM           118,385 crowdfunding.xlsx\n",
      "2024-02-03  03:10 PM               505 subcategory.csv\n",
      "               6 File(s)        344,767 bytes\n",
      "               2 Dir(s)  24,103,464,960 bytes free\n"
     ]
    }
   ],
   "source": [
    "ls"
   ]
  },
  {
   "cell_type": "code",
   "execution_count": 5,
   "id": "6b2c7e4b",
   "metadata": {},
   "outputs": [
    {
     "name": "stdout",
     "output_type": "stream",
     "text": [
      "C:\\Users\\lukas\\Documents\\GitHub\\Crowdfunding_ETL\n"
     ]
    }
   ],
   "source": [
    "cd .."
   ]
  },
  {
   "cell_type": "code",
   "execution_count": 13,
   "id": "1dbf23a1",
   "metadata": {},
   "outputs": [
    {
     "name": "stdout",
     "output_type": "stream",
     "text": [
      "<class 'pandas.core.frame.DataFrame'>\n",
      "RangeIndex: 1000 entries, 0 to 999\n",
      "Data columns (total 14 columns):\n",
      " #   Column          Non-Null Count  Dtype  \n",
      "---  ------          --------------  -----  \n",
      " 0   cf_id           1000 non-null   int64  \n",
      " 1   contact_id      1000 non-null   int64  \n",
      " 2   company_name    1000 non-null   object \n",
      " 3   description     1000 non-null   object \n",
      " 4   goal            1000 non-null   float64\n",
      " 5   pledged         1000 non-null   float64\n",
      " 6   outcome         1000 non-null   object \n",
      " 7   backers_count   1000 non-null   int64  \n",
      " 8   country         1000 non-null   object \n",
      " 9   currency        1000 non-null   object \n",
      " 10  launched_date   1000 non-null   object \n",
      " 11  end_date        1000 non-null   int64  \n",
      " 12  category_id     1000 non-null   object \n",
      " 13  subcategory_id  1000 non-null   object \n",
      "dtypes: float64(2), int64(4), object(8)\n",
      "memory usage: 109.5+ KB\n",
      "None\n",
      "\n",
      "<class 'pandas.core.frame.DataFrame'>\n",
      "RangeIndex: 9 entries, 0 to 8\n",
      "Data columns (total 2 columns):\n",
      " #   Column       Non-Null Count  Dtype \n",
      "---  ------       --------------  ----- \n",
      " 0   category_id  9 non-null      object\n",
      " 1   category     9 non-null      object\n",
      "dtypes: object(2)\n",
      "memory usage: 276.0+ bytes\n",
      "None\n",
      "\n",
      "<class 'pandas.core.frame.DataFrame'>\n",
      "RangeIndex: 24 entries, 0 to 23\n",
      "Data columns (total 2 columns):\n",
      " #   Column          Non-Null Count  Dtype \n",
      "---  ------          --------------  ----- \n",
      " 0   subcategory_id  24 non-null     object\n",
      " 1   subcategory     24 non-null     object\n",
      "dtypes: object(2)\n",
      "memory usage: 516.0+ bytes\n",
      "None\n",
      "\n",
      "<class 'pandas.core.frame.DataFrame'>\n",
      "RangeIndex: 1000 entries, 0 to 999\n",
      "Data columns (total 4 columns):\n",
      " #   Column      Non-Null Count  Dtype \n",
      "---  ------      --------------  ----- \n",
      " 0   contact_id  1000 non-null   int64 \n",
      " 1   first_name  1000 non-null   object\n",
      " 2   last_name   1000 non-null   object\n",
      " 3   email       1000 non-null   object\n",
      "dtypes: int64(1), object(3)\n",
      "memory usage: 31.4+ KB\n",
      "None\n",
      "\n",
      "<class 'pandas.core.frame.DataFrame'>\n",
      "RangeIndex: 1003 entries, 0 to 1002\n",
      "Data columns (total 1 columns):\n",
      " #   Column                                            Non-Null Count  Dtype \n",
      "---  ------                                            --------------  ----- \n",
      " 0   This list of contacts was updated on 11/10/2020.  1003 non-null   object\n",
      "dtypes: object(1)\n",
      "memory usage: 8.0+ KB\n",
      "None\n",
      "\n",
      "<class 'pandas.core.frame.DataFrame'>\n",
      "RangeIndex: 1000 entries, 0 to 999\n",
      "Data columns (total 15 columns):\n",
      " #   Column                   Non-Null Count  Dtype \n",
      "---  ------                   --------------  ----- \n",
      " 0   cf_id                    1000 non-null   int64 \n",
      " 1   contact_id               1000 non-null   int64 \n",
      " 2   company_name             1000 non-null   object\n",
      " 3   blurb                    1000 non-null   object\n",
      " 4   goal                     1000 non-null   int64 \n",
      " 5   pledged                  1000 non-null   int64 \n",
      " 6   outcome                  1000 non-null   object\n",
      " 7   backers_count            1000 non-null   int64 \n",
      " 8   country                  1000 non-null   object\n",
      " 9   currency                 1000 non-null   object\n",
      " 10  launched_at              1000 non-null   int64 \n",
      " 11  deadline                 1000 non-null   int64 \n",
      " 12  staff_pick               1000 non-null   bool  \n",
      " 13  spotlight                1000 non-null   bool  \n",
      " 14  category & sub-category  1000 non-null   object\n",
      "dtypes: bool(2), int64(7), object(6)\n",
      "memory usage: 103.6+ KB\n",
      "None\n",
      "\n"
     ]
    },
    {
     "data": {
      "text/plain": [
       "[None, None, None, None, None, None]"
      ]
     },
     "execution_count": 13,
     "metadata": {},
     "output_type": "execute_result"
    }
   ],
   "source": [
    "import pandas as pd\n",
    "\n",
    "campaigncsv_df = pd.read_csv('Resources/campaign.csv')\n",
    "categorycsv_df = pd.read_csv('Resources/category.csv')\n",
    "subcategorycsv_df = pd.read_csv('Resources/subcategory.csv')\n",
    "contactscsv_df = pd.read_csv('Resources/contacts.csv')\n",
    "contactsxlsx_df = pd.read_excel('Resources/contacts.xlsx')\n",
    "crowdfundingxlsx_df = pd.read_excel('Resources/crowdfunding.xlsx')\n",
    "\n",
    "tables_to_db_file_list = [campaigncsv_df, categorycsv_df, subcategorycsv_df, contactscsv_df, contactsxlsx_df, crowdfundingxlsx_df]\n",
    "\n",
    "[print(f\"{df.info()}\\n\") for df in tables_to_db_file_list]"
   ]
  }
 ],
 "metadata": {
  "kernelspec": {
   "display_name": "Python 3 (ipykernel)",
   "language": "python",
   "name": "python3"
  },
  "language_info": {
   "codemirror_mode": {
    "name": "ipython",
    "version": 3
   },
   "file_extension": ".py",
   "mimetype": "text/x-python",
   "name": "python",
   "nbconvert_exporter": "python",
   "pygments_lexer": "ipython3",
   "version": "3.11.5"
  }
 },
 "nbformat": 4,
 "nbformat_minor": 5
}
